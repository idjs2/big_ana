{
 "cells": [
  {
   "cell_type": "markdown",
   "id": "b962dbf6",
   "metadata": {},
   "source": [
    "## Q1. 주어진 숫자 중 3개의 수를 더했을 때 소수가 되는 경우의 개수를 구하려고 합니다. 숫자들이 들어있는 배열 nums가 매개변수로 주어질 때, nums에 있는 숫자들 중 서로 다른 3개를 골라 더했을 때 소수가 되는 경우의 개수를 return 하도록 solution 함수를 완성해주세요."
   ]
  },
  {
   "cell_type": "markdown",
   "id": "f0536512",
   "metadata": {},
   "source": [
    "- nums에 들어있는 숫자의 개수는 3개 이상 50개 이하입니다.\n",
    "- nums의 각 원소는 1 이상 1,000 이하의 자연수이며, 중복된 숫자가 들어있지 않습니다."
   ]
  },
  {
   "cell_type": "code",
   "execution_count": 22,
   "id": "72154d80",
   "metadata": {},
   "outputs": [],
   "source": [
    "def solution(nums) :\n",
    "    i = 0;j = 1;k = 2\n",
    "    target_cnt = 0\n",
    "    \n",
    "    while True :\n",
    "        three = [nums[i], nums[j], nums[k]]\n",
    "        target = sum(three)\n",
    "        \n",
    "        cnt = 0\n",
    "        for tg in range(1,target+1) :\n",
    "            if target % tg == 0 :\n",
    "                cnt += 1\n",
    "                \n",
    "        if cnt == 2 :\n",
    "            target_cnt += 1\n",
    "            print(f'{three}를 이용해서 {target}을 만들 수 있습니다.')\n",
    "        \n",
    "        if k == len(nums) - 1 :\n",
    "            if j == len(nums) - 2 :\n",
    "                if i == len(nums) - 3 : break\n",
    "                else : i += 1\n",
    "            else : j += 1\n",
    "        else : k += 1\n",
    "        \n",
    "        answer = target_cnt\n",
    "    \n",
    "    return answer"
   ]
  },
  {
   "cell_type": "code",
   "execution_count": 24,
   "id": "133dfc44",
   "metadata": {},
   "outputs": [
    {
     "name": "stdout",
     "output_type": "stream",
     "text": [
      "[1, 2, 4]를 이용해서 7을 만들 수 있습니다.\n",
      "[1, 6, 4]를 이용해서 11을 만들 수 있습니다.\n",
      "[7, 6, 4]를 이용해서 17을 만들 수 있습니다.\n"
     ]
    },
    {
     "data": {
      "text/plain": [
       "2"
      ]
     },
     "execution_count": 24,
     "metadata": {},
     "output_type": "execute_result"
    }
   ],
   "source": [
    "nums = [1,2,7,6,4]\n",
    "\n",
    "solution(nums)"
   ]
  },
  {
   "cell_type": "code",
   "execution_count": 19,
   "id": "9644114b",
   "metadata": {},
   "outputs": [
    {
     "name": "stdout",
     "output_type": "stream",
     "text": [
      "1\n",
      "2\n",
      "3\n",
      "4\n",
      "5\n",
      "6\n",
      "7\n",
      "8\n",
      "9\n",
      "10\n",
      "11\n",
      "12\n",
      "13\n",
      "14\n",
      "15\n",
      "16\n",
      "17\n",
      "18\n"
     ]
    }
   ],
   "source": [
    "jkjk = int(36/2)\n",
    "for jk in range(jkjk) :\n",
    "    jk += 1\n",
    "    print(jk)"
   ]
  },
  {
   "cell_type": "code",
   "execution_count": 10,
   "id": "55a95227",
   "metadata": {},
   "outputs": [
    {
     "data": {
      "text/plain": [
       "5"
      ]
     },
     "execution_count": 10,
     "metadata": {},
     "output_type": "execute_result"
    }
   ],
   "source": [
    "35%6"
   ]
  },
  {
   "cell_type": "code",
   "execution_count": 27,
   "id": "e172b545",
   "metadata": {},
   "outputs": [
    {
     "data": {
      "text/plain": [
       "5"
      ]
     },
     "execution_count": 27,
     "metadata": {},
     "output_type": "execute_result"
    }
   ],
   "source": []
  },
  {
   "cell_type": "code",
   "execution_count": null,
   "id": "27d2ae8f",
   "metadata": {},
   "outputs": [],
   "source": []
  }
 ],
 "metadata": {
  "kernelspec": {
   "display_name": "Python 3 (ipykernel)",
   "language": "python",
   "name": "python3"
  },
  "language_info": {
   "codemirror_mode": {
    "name": "ipython",
    "version": 3
   },
   "file_extension": ".py",
   "mimetype": "text/x-python",
   "name": "python",
   "nbconvert_exporter": "python",
   "pygments_lexer": "ipython3",
   "version": "3.7.15"
  }
 },
 "nbformat": 4,
 "nbformat_minor": 5
}
