{
 "cells": [
  {
   "cell_type": "markdown",
   "id": "d456d680",
   "metadata": {},
   "source": [
    "# 작업형1"
   ]
  },
  {
   "cell_type": "markdown",
   "id": "83c67cfb",
   "metadata": {},
   "source": [
    "#### 1. economics 데이터셋을 불러와 첫 번째 행부터 순서대로 70%까지의 데이터를 훈련 데이터로 추출한 후 pce 컬럼의 제 1사분위수를 구하라. (단, 정수로 나타낼 것)¶"
   ]
  },
  {
   "cell_type": "code",
   "execution_count": 35,
   "id": "2771b24d",
   "metadata": {},
   "outputs": [
    {
     "name": "stdout",
     "output_type": "stream",
     "text": [
      "1075\n"
     ]
    }
   ],
   "source": [
    "import pandas as pd\n",
    "\n",
    "economics = pd.read_csv('data/기출복원/03회/economics.csv')\n",
    "per_70 = int(economics.shape[0]*0.7)\n",
    "\n",
    "train = economics[:per_70]\n",
    "\n",
    "result1 = train['pce'].quantile(q = 0.25).astype('int')\n",
    "print(result1)"
   ]
  },
  {
   "cell_type": "markdown",
   "id": "3e18cc5e",
   "metadata": {},
   "source": [
    "#### 2. Hitters 데이터셋을 불러와 Years 컬럼이 10인 데이터만 추출하여 HmRun 컬럼이 평균보다 큰 선수가 몇 명인지 계산하라."
   ]
  },
  {
   "cell_type": "code",
   "execution_count": 36,
   "id": "6e2ab7ea",
   "metadata": {},
   "outputs": [
    {
     "name": "stdout",
     "output_type": "stream",
     "text": [
      "6\n"
     ]
    }
   ],
   "source": [
    "import pandas as pd\n",
    "\n",
    "hitters = pd.read_csv('data/기출복원/03회/Hitters.csv')\n",
    "\n",
    "years_10 = hitters[hitters['Years'] == 10]\n",
    "mean_hr = years_10['HmRun'].mean()\n",
    "\n",
    "hr_over_10 = years_10[years_10['HmRun'] > mean_hr]\n",
    "\n",
    "result2 = len(hr_over_10)\n",
    "print(result2)\n"
   ]
  },
  {
   "cell_type": "markdown",
   "id": "6f32b245",
   "metadata": {},
   "source": [
    "#### 3. msleep 데이터셋을 불러와 가장 결측치가 많은 컬럼의 이름을 출력하라."
   ]
  },
  {
   "cell_type": "code",
   "execution_count": 57,
   "id": "1eb3dfb0",
   "metadata": {},
   "outputs": [
    {
     "name": "stdout",
     "output_type": "stream",
     "text": [
      "sleep_cycle\n"
     ]
    }
   ],
   "source": [
    "import pandas as pd\n",
    "\n",
    "msleep = pd.read_csv('data/기출복원/03회/msleep.csv')\n",
    "null_sleep = msleep.isnull().sum()\n",
    "\n",
    "max_null = null_sleep.max()\n",
    "\n",
    "idx = 0\n",
    "for i in null_sleep :\n",
    "    if i == max_null :\n",
    "        break\n",
    "    else :\n",
    "        idx += 1\n",
    "\n",
    "print(null_sleep.index[idx])"
   ]
  },
  {
   "cell_type": "markdown",
   "id": "b256fa2a",
   "metadata": {},
   "source": [
    "# 작업형2"
   ]
  },
  {
   "cell_type": "markdown",
   "id": "5bc07088",
   "metadata": {},
   "source": [
    "#### 1. 아래는 HR 연구를 위한 이직 희망 여부와 입사 지원자들의 정보와 관련한 데이터의 일부이다.주어진 데이터를 이용하여 예측 모형을 만들고 아래에 따라 CSV 파일을 생성하시오."
   ]
  },
  {
   "cell_type": "code",
   "execution_count": 75,
   "id": "55b19f39",
   "metadata": {
    "scrolled": false
   },
   "outputs": [
    {
     "name": "stdout",
     "output_type": "stream",
     "text": [
      "   enrollee_id      city  city_development_index gender relevent_experience  \\\n",
      "0         6424   city_75                   0.939   Male                 Has   \n",
      "1        18304   city_64                   0.666   Male                  No   \n",
      "2        22515  city_103                   0.920   Male                  No   \n",
      "3        15878   city_16                   0.910   Male                 Has   \n",
      "4        22128  city_103                   0.920   Male                 Has   \n",
      "\n",
      "  enrolled_university education_level major_discipline experience  \\\n",
      "0                  No        Graduate             STEM         10   \n",
      "1                Full            High              NaN          2   \n",
      "2                Full            High              NaN          4   \n",
      "3                  No        Graduate             STEM          8   \n",
      "4                  No        Graduate             STEM          6   \n",
      "\n",
      "  company_size         company_type last_new_job  training_hours  \n",
      "0        50-99              Pvt Ltd            1             176  \n",
      "1          NaN                  NaN            1             110  \n",
      "2          NaN                  NaN        never              44  \n",
      "3        50-99  Early Stage Startup            1              82  \n",
      "4       10000+              Pvt Ltd            1              70  \n",
      "   enrollee_id      city  city_development_index gender relevent_experience  \\\n",
      "0          666  city_162                   0.767   Male                 Has   \n",
      "1        28806  city_160                   0.920   Male                 Has   \n",
      "2         5826   city_21                   0.624   Male                  No   \n",
      "3        19061  city_114                   0.926   Male                 Has   \n",
      "4        28476  city_103                   0.920   Male                 Has   \n",
      "\n",
      "  enrolled_university education_level major_discipline experience  \\\n",
      "0                  No         Masters             STEM        >20   \n",
      "1                  No            High              NaN          5   \n",
      "2                 NaN             NaN              NaN          2   \n",
      "3                  No         Masters             STEM         11   \n",
      "4                  No        Graduate             Arts          5   \n",
      "\n",
      "  company_size    company_type last_new_job  training_hours  \n",
      "0        50-99  Funded Startup            4               8  \n",
      "1        50-99  Funded Startup            1              24  \n",
      "2          NaN             NaN        never              24  \n",
      "3      100-500         Pvt Ltd            2              50  \n",
      "4          NaN             NaN            2              72  \n"
     ]
    }
   ],
   "source": [
    "### 데이터 불러오기\n",
    "import pandas as pd\n",
    "\n",
    "X_train = pd.read_csv('data/기출복원/03회/job_change_X_train.csv')\n",
    "X_test = pd.read_csv('data/기출복원/03회/job_change_X_test.csv')\n",
    "y_train = pd.read_csv('data/기출복원/03회/job_change_y_train.csv')\n",
    "\n",
    "### EDA\n",
    "print(X_train.head())\n",
    "print(X_test.head())\n",
    "    # 불필요 변수 'encollee_id'\n",
    "    # 범주형 ['city','gender','relevent_experience','enrolled_university','education_level','major_discipline','experience','company_size','company_type','last_new_job']\n",
    "    # 결측치 많음 'company_size','company_type'"
   ]
  },
  {
   "cell_type": "code",
   "execution_count": null,
   "id": "ee9d2470",
   "metadata": {},
   "outputs": [],
   "source": []
  }
 ],
 "metadata": {
  "kernelspec": {
   "display_name": "Python 3 (ipykernel)",
   "language": "python",
   "name": "python3"
  },
  "language_info": {
   "codemirror_mode": {
    "name": "ipython",
    "version": 3
   },
   "file_extension": ".py",
   "mimetype": "text/x-python",
   "name": "python",
   "nbconvert_exporter": "python",
   "pygments_lexer": "ipython3",
   "version": "3.7.15"
  }
 },
 "nbformat": 4,
 "nbformat_minor": 5
}
