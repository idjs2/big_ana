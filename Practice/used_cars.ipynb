{
 "cells": [
  {
   "cell_type": "code",
   "execution_count": 20,
   "metadata": {},
   "outputs": [
    {
     "name": "stdout",
     "output_type": "stream",
     "text": [
      "     transmission fuelType\n",
      "3706    Automatic   Petrol\n",
      "2608       Manual   Petrol\n",
      "2360    Semi-Auto   Petrol\n",
      "2799       Manual   Petrol\n",
      "216        Manual   Petrol\n",
      "...           ...      ...\n",
      "1914       Manual   Diesel\n",
      "892        Manual   Petrol\n",
      "2750       Manual   Petrol\n",
      "271        Manual   Petrol\n",
      "2749       Manual   Petrol\n",
      "\n",
      "[3005 rows x 2 columns]\n"
     ]
    },
    {
     "ename": "ValueError",
     "evalue": "y should be a 1d array, got an array of shape (3005, 2) instead.",
     "output_type": "error",
     "traceback": [
      "\u001b[1;31m---------------------------------------------------------------------------\u001b[0m",
      "\u001b[1;31mValueError\u001b[0m                                Traceback (most recent call last)",
      "\u001b[1;32m~\\AppData\\Local\\Temp\\ipykernel_18584\\2400582691.py\u001b[0m in \u001b[0;36m<module>\u001b[1;34m\u001b[0m\n\u001b[0;32m     41\u001b[0m \u001b[0mprint\u001b[0m\u001b[1;33m(\u001b[0m\u001b[0mX_train_lb\u001b[0m\u001b[1;33m)\u001b[0m\u001b[1;33m\u001b[0m\u001b[1;33m\u001b[0m\u001b[0m\n\u001b[0;32m     42\u001b[0m \u001b[1;33m\u001b[0m\u001b[0m\n\u001b[1;32m---> 43\u001b[1;33m \u001b[0mle\u001b[0m \u001b[1;33m=\u001b[0m \u001b[0mLabelEncoder\u001b[0m\u001b[1;33m(\u001b[0m\u001b[1;33m)\u001b[0m\u001b[1;33m.\u001b[0m\u001b[0mfit\u001b[0m\u001b[1;33m(\u001b[0m\u001b[0mX_train_lb\u001b[0m\u001b[1;33m)\u001b[0m\u001b[1;33m\u001b[0m\u001b[1;33m\u001b[0m\u001b[0m\n\u001b[0m\u001b[0;32m     44\u001b[0m \u001b[1;33m\u001b[0m\u001b[0m\n\u001b[0;32m     45\u001b[0m \u001b[0mX_train_le\u001b[0m \u001b[1;33m=\u001b[0m \u001b[0mle\u001b[0m\u001b[1;33m.\u001b[0m\u001b[0mtransform\u001b[0m\u001b[1;33m(\u001b[0m\u001b[0mX_train_lb\u001b[0m\u001b[1;33m)\u001b[0m\u001b[1;33m\u001b[0m\u001b[1;33m\u001b[0m\u001b[0m\n",
      "\u001b[1;32mc:\\Users\\idjs1\\.conda\\envs\\big_ana\\lib\\site-packages\\sklearn\\preprocessing\\_label.py\u001b[0m in \u001b[0;36mfit\u001b[1;34m(self, y)\u001b[0m\n\u001b[0;32m     96\u001b[0m             \u001b[0mFitted\u001b[0m \u001b[0mlabel\u001b[0m \u001b[0mencoder\u001b[0m\u001b[1;33m.\u001b[0m\u001b[1;33m\u001b[0m\u001b[1;33m\u001b[0m\u001b[0m\n\u001b[0;32m     97\u001b[0m         \"\"\"\n\u001b[1;32m---> 98\u001b[1;33m         \u001b[0my\u001b[0m \u001b[1;33m=\u001b[0m \u001b[0mcolumn_or_1d\u001b[0m\u001b[1;33m(\u001b[0m\u001b[0my\u001b[0m\u001b[1;33m,\u001b[0m \u001b[0mwarn\u001b[0m\u001b[1;33m=\u001b[0m\u001b[1;32mTrue\u001b[0m\u001b[1;33m)\u001b[0m\u001b[1;33m\u001b[0m\u001b[1;33m\u001b[0m\u001b[0m\n\u001b[0m\u001b[0;32m     99\u001b[0m         \u001b[0mself\u001b[0m\u001b[1;33m.\u001b[0m\u001b[0mclasses_\u001b[0m \u001b[1;33m=\u001b[0m \u001b[0m_unique\u001b[0m\u001b[1;33m(\u001b[0m\u001b[0my\u001b[0m\u001b[1;33m)\u001b[0m\u001b[1;33m\u001b[0m\u001b[1;33m\u001b[0m\u001b[0m\n\u001b[0;32m    100\u001b[0m         \u001b[1;32mreturn\u001b[0m \u001b[0mself\u001b[0m\u001b[1;33m\u001b[0m\u001b[1;33m\u001b[0m\u001b[0m\n",
      "\u001b[1;32mc:\\Users\\idjs1\\.conda\\envs\\big_ana\\lib\\site-packages\\sklearn\\utils\\validation.py\u001b[0m in \u001b[0;36mcolumn_or_1d\u001b[1;34m(y, warn)\u001b[0m\n\u001b[0;32m   1037\u001b[0m \u001b[1;33m\u001b[0m\u001b[0m\n\u001b[0;32m   1038\u001b[0m     raise ValueError(\n\u001b[1;32m-> 1039\u001b[1;33m         \u001b[1;34m\"y should be a 1d array, got an array of shape {} instead.\"\u001b[0m\u001b[1;33m.\u001b[0m\u001b[0mformat\u001b[0m\u001b[1;33m(\u001b[0m\u001b[0mshape\u001b[0m\u001b[1;33m)\u001b[0m\u001b[1;33m\u001b[0m\u001b[1;33m\u001b[0m\u001b[0m\n\u001b[0m\u001b[0;32m   1040\u001b[0m     )\n\u001b[0;32m   1041\u001b[0m \u001b[1;33m\u001b[0m\u001b[0m\n",
      "\u001b[1;31mValueError\u001b[0m: y should be a 1d array, got an array of shape (3005, 2) instead."
     ]
    }
   ],
   "source": [
    "import pandas as pd\n",
    "\n",
    "X_train = pd.read_csv('./data/used_cars/train.csv')\n",
    "X_test = pd.read_csv('./data/used_cars/test.csv')\n",
    "\n",
    "\n",
    "# print(X_train.info())  # 3759x8\n",
    "# print(X_test.info())  # 1617x8\n",
    "        # object : 'model','transmission','fuelType'\n",
    "        # int64 : 'year','mileage','tax'\n",
    "        # float64 : 'mpg','engineSize'\n",
    "\n",
    "# print(sorted(X_train['year'].unique()))  # 이상치 : X_train['year'] == 2060\n",
    "# print(sorted(X_train['tax'])[-10:-1])  # 이상치 : X_train['tax'] == 555\n",
    "\n",
    "\n",
    "X_train = X_train[X_train['year'] != 2060]\n",
    "X_train = X_train[X_train['tax'] != 555]\n",
    "\n",
    "y_train = X_train.pop('price')\n",
    "\n",
    "\n",
    "# 데이터 분할\n",
    "from sklearn.model_selection import train_test_split\n",
    "\n",
    "X_train, X_val, y_train, y_val = train_test_split(X_train, y_train,\n",
    "                                                  test_size = 0.2)\n",
    "# print(X_train['fuelType'].nunique())\n",
    "# print(X_train['fuelType'].value_counts())\n",
    "        # OneHotEncoder - 'model'\n",
    "        # LabelEncoder - 'transmission','fuelType'\n",
    "\n",
    "# 인코딩\n",
    "from sklearn.preprocessing import LabelEncoder, OneHotEncoder\n",
    "\n",
    "lb = ['transmission','fuelType']\n",
    "\n",
    "X_train_lb = X_train[lb].copy()\n",
    "X_val_lb = X_val[lb]].copy()\n",
    "X_test_lb = X_test[lb]].copy()\n",
    "\n",
    "le = LabelEncoder().fit(X_train_lb)\n",
    "\n",
    "X_train_le = le.transform(X_train_lb)\n",
    "X_val_le = le.transform(X_val_lb)\n",
    "X_test_le = le.transform(X_test_lb)\n",
    "##########################################3\n",
    "X_train_oh = X_train['model'].copy()\n",
    "X_val_oh = X_val['model'].copy()\n",
    "X_test_oh = X_test['model'].copy()\n",
    "\n",
    "ohe = OneHotEncoder(sparse = False, handle_unknown = 'ignore').fit(X_train_oh)\n",
    "\n",
    "X_train_ohe = ohe.transform(X_train_oh)\n",
    "X_val_ohe = ohe.transform(X_val_oh)\n",
    "X_test_ohe = ohe.transform(X_test_oh)\n",
    "\n",
    "# 스케일링\n",
    "from sklearn.preprocessing import RobustScaler\n",
    "\n",
    "X_train_num = X_train.select_dtypes(exclude = 'object').copy()\n",
    "X_val_num = X_val.select_dtypes(exclude = 'object').copy()\n",
    "X_test_num = X_test.select_dtypes(exclude = 'object').copy()\n",
    "\n",
    "scale = RobustScaler().fit(X_train_num)\n",
    "\n",
    "X_train_scale = scale.transform(X_train_num)\n",
    "X_val_scale = scale.transform(X_val_num)\n",
    "X_test_scale = scale.transform(X_test_num)\n",
    "\n",
    "\n"
   ]
  },
  {
   "cell_type": "code",
   "execution_count": null,
   "metadata": {},
   "outputs": [],
   "source": []
  }
 ],
 "metadata": {
  "kernelspec": {
   "display_name": "big_ana",
   "language": "python",
   "name": "python3"
  },
  "language_info": {
   "codemirror_mode": {
    "name": "ipython",
    "version": 3
   },
   "file_extension": ".py",
   "mimetype": "text/x-python",
   "name": "python",
   "nbconvert_exporter": "python",
   "pygments_lexer": "ipython3",
   "version": "3.7.15"
  },
  "orig_nbformat": 4
 },
 "nbformat": 4,
 "nbformat_minor": 2
}
