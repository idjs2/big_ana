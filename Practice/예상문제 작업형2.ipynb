{
 "cells": [
  {
   "cell_type": "code",
   "execution_count": 16,
   "id": "81cd757e",
   "metadata": {
    "scrolled": false
   },
   "outputs": [],
   "source": [
    "### 데이터 불러오기\n",
    "import pandas as pd\n",
    "\n",
    "X_train = pd.read_csv('./data/연습문제/FIFA_X_train.csv', encoding = 'cp949')\n",
    "X_test = pd.read_csv('./data/연습문제/FIFA_X_test.csv', encoding = 'cp949')\n",
    "y_train = pd.read_csv('./data/연습문제/FIFA_y_train.csv', encoding = 'cp949')\n",
    "\n",
    "### EDA\n",
    "\n",
    "### 데이터 전처리\n",
    "# 1) 불필요 변수 제거\n",
    "X_train = X_train.drop('ID', axis = 1)\n",
    "y_train = y_train.drop('ID', axis = 1)\n",
    "\n",
    "\n",
    "test_id = X_test.pop('ID')\n",
    "\n",
    "# 2) 결측치 처리\n",
    "X_train['Position_Class'] = X_train['Position_Class'].fillna('unknown')\n",
    "pd.crosstab(index = X_train['Position'], columns = X_train['Position_Class'])\n",
    "\n",
    "train_pos = X_train['Position'].copy()\n",
    "train_cls = X_train['Position_Class'].copy()\n",
    "test_pos = X_test['Position'].copy()\n",
    "test_cls = X_test['Position_Class'].copy()\n",
    "\n",
    "pos = ['CM','GK','LF','RDM','RWB']\n",
    "pos_cls = ['Midfielder','GoalKeeper','Forward','Defender','Defender']\n",
    "\n",
    "for p,c in zip(pos, pos_cls) :\n",
    "    train_cls[train_pos == p] = c\n",
    "    test_cls[test_pos == p] = c\n",
    "    \n",
    "X_train['Position_Class'] = train_cls\n",
    "X_test['Position_Class'] = test_cls\n",
    "\n",
    "X_train = X_train.drop('Position', axis = 1)\n",
    "X_test = X_test.drop('Position', axis = 1)\n",
    "\n",
    "\n",
    "\n",
    "\n",
    "# 3) 범주형 데이터 처리\n",
    "# 4) 수치형 데이터 처리\n",
    "# 5) 데이터 분할\n",
    "# 6) 인코딩\n",
    "# 7) 스케일링\n",
    "# 8) 데이터셋 준비\n",
    "\n",
    "### 모델 학습 및 예측\n",
    "# 학습\n",
    "\n",
    "# 검증\n",
    "\n",
    "# 예측\n",
    "\n",
    "### 결과제출"
   ]
  },
  {
   "cell_type": "code",
   "execution_count": null,
   "id": "db3b6b4e",
   "metadata": {},
   "outputs": [],
   "source": []
  }
 ],
 "metadata": {
  "kernelspec": {
   "display_name": "Python 3 (ipykernel)",
   "language": "python",
   "name": "python3"
  },
  "language_info": {
   "codemirror_mode": {
    "name": "ipython",
    "version": 3
   },
   "file_extension": ".py",
   "mimetype": "text/x-python",
   "name": "python",
   "nbconvert_exporter": "python",
   "pygments_lexer": "ipython3",
   "version": "3.7.15"
  }
 },
 "nbformat": 4,
 "nbformat_minor": 5
}
