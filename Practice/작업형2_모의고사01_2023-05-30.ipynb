{
 "cells": [
  {
   "cell_type": "code",
   "execution_count": 24,
   "id": "b200c775",
   "metadata": {
    "scrolled": false
   },
   "outputs": [
    {
     "name": "stdout",
     "output_type": "stream",
     "text": [
      "False    628\n",
      "True     157\n",
      "Name: age, dtype: int64\n"
     ]
    }
   ],
   "source": [
    "### 1. 데이터 불러오기\n",
    "import pandas as pd\n",
    "\n",
    "X_train = pd.read_csv('./data/모의고사/01회/titanic3_X_train.csv', encoding = 'cp949')\n",
    "y_train = pd.read_csv('./data/모의고사/01회/titanic3_y_train.csv', encoding = 'cp949')\n",
    "X_test = pd.read_csv('./data/모의고사/01회/titanic3_X_test.csv', encoding = 'cp949')\n",
    "\n",
    "# print(X_train.head(), '\\n\\n\\n')\n",
    "# print(X_train.info(), '\\n\\n\\n')\n",
    "# print(X_train.describe(), '\\n\\n\\n')\n",
    "# print(X_train.isna().sum())\n",
    "\n",
    "    # 필요없는 변수 ID, name, ticket, fare\n",
    "    # 결측치 age 157, cabin 614, embarked 1\n",
    "\n",
    "### 2. 데이터 전처리\n",
    "# 불필요 변수 제거 ID, name, ticket, fare\n",
    "X_train = X_train.drop(columns = 'ID')\n",
    "y_train = y_train.drop(columns = 'ID')\n",
    "ID = X_test.pop('ID')\n",
    "\n",
    "muthlmo = ['name','ticket','fare', 'cabin']\n",
    "X_train = X_train.drop(columns = muthlmo)\n",
    "X_test = X_test.drop(columns = muthlmo)\n",
    "\n",
    "# print(X_train.info())\n",
    "    # 남은 변수 pclass, sex, age, sibsp, parch, embarked\n",
    "\n",
    "# print(X_train['embarked'].value_counts())\n",
    "    # sex - F는 female로 추정.(수정해야함)\n",
    "sex_train = X_train['sex'].copy()\n",
    "sex_train[sex_train == 'F'] = 'female'\n",
    "\n",
    "print(X_train['age'].isna().value_counts())"
   ]
  },
  {
   "cell_type": "code",
   "execution_count": null,
   "id": "8c989450",
   "metadata": {},
   "outputs": [],
   "source": []
  }
 ],
 "metadata": {
  "kernelspec": {
   "display_name": "Python 3 (ipykernel)",
   "language": "python",
   "name": "python3"
  },
  "language_info": {
   "codemirror_mode": {
    "name": "ipython",
    "version": 3
   },
   "file_extension": ".py",
   "mimetype": "text/x-python",
   "name": "python",
   "nbconvert_exporter": "python",
   "pygments_lexer": "ipython3",
   "version": "3.7.15"
  }
 },
 "nbformat": 4,
 "nbformat_minor": 5
}
