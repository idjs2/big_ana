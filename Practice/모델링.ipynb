{
 "cells": [
  {
   "cell_type": "markdown",
   "id": "b47e53a6",
   "metadata": {},
   "source": [
    "# 1. 지도학습"
   ]
  },
  {
   "cell_type": "markdown",
   "id": "df061d96",
   "metadata": {},
   "source": [
    "## 1) 데이터 분할\n",
    "### model_selection\n",
    "- 홀드아웃 ------ train_test_split\n",
    "- K-Fold ------ KFold, StratifiedKFold"
   ]
  },
  {
   "cell_type": "markdown",
   "id": "f64455fe",
   "metadata": {},
   "source": [
    "#### 홀드아웃"
   ]
  },
  {
   "cell_type": "code",
   "execution_count": 1,
   "id": "13b00f1b",
   "metadata": {},
   "outputs": [],
   "source": [
    "from sklearn.datasets import load_breast_cancer\n",
    "breast_cancer = load_breast_cancer()\n",
    "data = breast_cancer.data\n",
    "target = breast_cancer.target"
   ]
  },
  {
   "cell_type": "code",
   "execution_count": 2,
   "id": "d4c0f1b5",
   "metadata": {},
   "outputs": [
    {
     "name": "stdout",
     "output_type": "stream",
     "text": [
      "(398, 30)\n",
      "(171, 30)\n",
      "(398,)\n",
      "(171,)\n"
     ]
    }
   ],
   "source": [
    "from sklearn.model_selection import train_test_split\n",
    "\n",
    "X_train, X_test, y_train, y_test = train_test_split(data,\n",
    "                                                    target,\n",
    "                                                    test_size = 0.3,\n",
    "                                                    random_state = 2022)\n",
    "print(X_train.shape)\n",
    "print(X_test.shape)\n",
    "print(y_train.shape)\n",
    "print(y_test.shape)"
   ]
  },
  {
   "cell_type": "code",
   "execution_count": 3,
   "id": "716ca8a9",
   "metadata": {},
   "outputs": [
    {
     "name": "stdout",
     "output_type": "stream",
     "text": [
      "(398, 30)\n",
      "(171, 30)\n",
      "(398,)\n",
      "(171,)\n"
     ]
    }
   ],
   "source": [
    "X_train, X_test, y_train, y_test = train_test_split(data,\n",
    "                                                    target,\n",
    "                                                    test_size = 0.3,\n",
    "                                                    random_state = 2022,\n",
    "                                                    stratify = target)\n",
    "print(X_train.shape)\n",
    "print(X_test.shape)\n",
    "print(y_train.shape)\n",
    "print(y_test.shape)"
   ]
  },
  {
   "cell_type": "markdown",
   "id": "8965a6de",
   "metadata": {},
   "source": [
    "#### K-Fold"
   ]
  },
  {
   "cell_type": "code",
   "execution_count": null,
   "id": "8b25f50c",
   "metadata": {},
   "outputs": [],
   "source": [
    "# 넘파이 배열 생성\n",
    "import numpy as np\n",
    "X = np.arange(10)\n",
    "\n",
    "# KFold 클래스 호출\n",
    "from sklearn.model_selection import KFold\n",
    "kfold = KFold(n_splits = 5) # k = 5\n",
    "\n",
    "# 메소드 .split은 학습, 평가 데이터의 인덱스를 생성해줌\n",
    "for train_idx, test_idx in kfold.split(X) :\n",
    "    print(\"학습 :\", train_idx, \"평가 :\", test_idx) # 인덱스번호"
   ]
  },
  {
   "cell_type": "code",
   "execution_count": null,
   "id": "5d6f676b",
   "metadata": {},
   "outputs": [],
   "source": [
    "# 넘파이 배열 생성\n",
    "import numpy as np\n",
    "X = np.arange(15) \n",
    "y = [0] * 6 + [1] * 3 + [2] * 6 #리스트 생성\n",
    "# y = [0,0,0,0,0,0,1,1,1,2,2,2,2,2,2]로 해도 됨\n",
    "\n",
    "# StratifiedKFold 클래스 호출\n",
    "from sklearn.model_selection import StratifiedKFold\n",
    "kfold = StratifiedKFold(n_splits = 3) # k = 3\n",
    "\n",
    "# 메소드 .split은 학습, 평가 데이터의 인덱스를 생성해줌\n",
    "# 동시에 y의 0,1,2 비율도 함께 고려함\n",
    "for train_idx, test_idx in kfold.split(X, y) :\n",
    "     print(\"학습 :\", train_idx, \"평가 :\", test_idx) # 인덱스번호"
   ]
  }
 ],
 "metadata": {
  "kernelspec": {
   "display_name": "Python 3 (ipykernel)",
   "language": "python",
   "name": "python3"
  },
  "language_info": {
   "codemirror_mode": {
    "name": "ipython",
    "version": 3
   },
   "file_extension": ".py",
   "mimetype": "text/x-python",
   "name": "python",
   "nbconvert_exporter": "python",
   "pygments_lexer": "ipython3",
   "version": "3.7.15"
  }
 },
 "nbformat": 4,
 "nbformat_minor": 5
}
