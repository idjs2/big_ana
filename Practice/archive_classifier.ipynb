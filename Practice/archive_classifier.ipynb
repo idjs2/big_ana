{
 "cells": [
  {
   "cell_type": "code",
   "execution_count": 6,
   "metadata": {},
   "outputs": [
    {
     "name": "stdout",
     "output_type": "stream",
     "text": [
      "<class 'pandas.core.frame.DataFrame'>\n",
      "RangeIndex: 6499 entries, 0 to 6498\n",
      "Data columns (total 12 columns):\n",
      " #   Column           Non-Null Count  Dtype  \n",
      "---  ------           --------------  -----  \n",
      " 0   CustomerId       6499 non-null   int64  \n",
      " 1   Surname          6499 non-null   object \n",
      " 2   CreditScore      6499 non-null   int64  \n",
      " 3   Geography        6499 non-null   object \n",
      " 4   Gender           6499 non-null   object \n",
      " 5   Age              6499 non-null   int64  \n",
      " 6   Tenure           6499 non-null   int64  \n",
      " 7   Balance          6499 non-null   float64\n",
      " 8   NumOfProducts    6499 non-null   int64  \n",
      " 9   HasCrCard        6499 non-null   int64  \n",
      " 10  IsActiveMember   6499 non-null   int64  \n",
      " 11  EstimatedSalary  6499 non-null   float64\n",
      "dtypes: float64(2), int64(7), object(3)\n",
      "memory usage: 609.4+ KB\n",
      "None\n",
      "<class 'pandas.core.frame.DataFrame'>\n",
      "RangeIndex: 6499 entries, 0 to 6498\n",
      "Data columns (total 2 columns):\n",
      " #   Column      Non-Null Count  Dtype\n",
      "---  ------      --------------  -----\n",
      " 0   CustomerId  6499 non-null   int64\n",
      " 1   Exited      6499 non-null   int64\n",
      "dtypes: int64(2)\n",
      "memory usage: 101.7 KB\n",
      "None\n"
     ]
    }
   ],
   "source": [
    "import pandas as pd\n",
    "\n",
    "pd.set_option('display.max_columns', None)\n",
    "#데이터 로드\n",
    "X_train = pd.read_csv(\"./data/archive/X_train.csv\")\n",
    "y_train = pd.read_csv(\"./data/archive/y_train.csv\")\n",
    "X_test= pd.read_csv(\"./data/archive/X_test.csv\")\n",
    "\n",
    "# print(X_train.head(), '\\n\\n\\n')  # 6499 X 12\n",
    "# print(y_train.head(), '\\n\\n')  # 6449 X 2\n",
    "# print(X_test.head())  # 3501 X 12\n",
    "\n",
    "# print(X_train.shape, y_train.shape, X_test.shape)\n",
    "\n",
    "print(X_train.info())  # object : 'Surname','Geography','Gender'\n",
    "print(y_train.info())\n",
    "# print(X_test.info())"
   ]
  }
 ],
 "metadata": {
  "kernelspec": {
   "display_name": "big_ana",
   "language": "python",
   "name": "python3"
  },
  "language_info": {
   "codemirror_mode": {
    "name": "ipython",
    "version": 3
   },
   "file_extension": ".py",
   "mimetype": "text/x-python",
   "name": "python",
   "nbconvert_exporter": "python",
   "pygments_lexer": "ipython3",
   "version": "3.7.15"
  },
  "orig_nbformat": 4,
  "vscode": {
   "interpreter": {
    "hash": "2a54cf92502ed4a644f63db6c5a03a3138eff322a3377024de226059133eb1dc"
   }
  }
 },
 "nbformat": 4,
 "nbformat_minor": 2
}
