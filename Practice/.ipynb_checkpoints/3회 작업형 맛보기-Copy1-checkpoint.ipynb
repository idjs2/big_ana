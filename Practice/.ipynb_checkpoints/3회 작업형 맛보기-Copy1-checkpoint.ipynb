{
 "cells": [
  {
   "cell_type": "markdown",
   "id": "c27d47fc",
   "metadata": {},
   "source": [
    "# 작업형1"
   ]
  },
  {
   "cell_type": "markdown",
   "id": "bfe898a9",
   "metadata": {},
   "source": [
    "#### 1. economics 데이터셋을 불러와 첫 번째 행부터 순서대로 70%까지의 데이터를 훈련 데이터로 추출한 후 pce 컬럼의 제 1사분위수를 구하라. (단, 정수로 나타낼 것)¶"
   ]
  },
  {
   "cell_type": "code",
   "execution_count": 14,
   "id": "9c9ed014",
   "metadata": {},
   "outputs": [
    {
     "name": "stdout",
     "output_type": "stream",
     "text": [
      "1080\n"
     ]
    }
   ],
   "source": [
    "import pandas as pd\n",
    "\n",
    "df = pd.read_csv('data/기출복원/03회/economics.csv')\n",
    "\n",
    "num = df.shape[0]*0.7\n",
    "df_70 = df.loc[:num]\n",
    "\n",
    "q = df_70['pce'].quantile(0.25).round()\n",
    "result = int(q)\n",
    "print(result)"
   ]
  },
  {
   "cell_type": "markdown",
   "id": "caaa4ac0",
   "metadata": {},
   "source": [
    "#### 2. Hitters 데이터셋을 불러와 Years 컬럼이 10인 데이터만 추출하여 HmRun 컬럼이 평균보다 큰 선수가 몇 명인지 계산하라."
   ]
  },
  {
   "cell_type": "code",
   "execution_count": 24,
   "id": "8ac76209",
   "metadata": {},
   "outputs": [
    {
     "name": "stdout",
     "output_type": "stream",
     "text": [
      "6\n"
     ]
    }
   ],
   "source": [
    "import pandas as pd\n",
    "\n",
    "df = pd.read_csv('data/기출복원/03회/Hitters.csv')\n",
    "\n",
    "df_10 = df[df['Years'] == 10]\n",
    "\n",
    "hm_mean = df_10['HmRun'].mean()\n",
    "result = df_10[df_10['HmRun'] > hm_mean].shape[0]\n",
    "print(result)"
   ]
  },
  {
   "cell_type": "markdown",
   "id": "2b59ae2b",
   "metadata": {},
   "source": [
    "#### 3. msleep 데이터셋을 불러와 가장 결측치가 많은 컬럼의 이름을 출력하라."
   ]
  },
  {
   "cell_type": "code",
   "execution_count": 70,
   "id": "bd7d66b5",
   "metadata": {},
   "outputs": [
    {
     "name": "stdout",
     "output_type": "stream",
     "text": [
      "sleep_cycle\n"
     ]
    }
   ],
   "source": [
    "import pandas as pd\n",
    "\n",
    "df = pd.read_csv('data/기출복원/03회/msleep.csv')\n",
    "df_na = df.isna().sum()\n",
    "max_na = df_na.max()\n",
    "\n",
    "result = df_na[df_na == max_na].index[0]\n",
    "print(result)"
   ]
  },
  {
   "cell_type": "code",
   "execution_count": null,
   "id": "4cbdbbdd",
   "metadata": {},
   "outputs": [],
   "source": []
  }
 ],
 "metadata": {
  "kernelspec": {
   "display_name": "Python 3 (ipykernel)",
   "language": "python",
   "name": "python3"
  },
  "language_info": {
   "codemirror_mode": {
    "name": "ipython",
    "version": 3
   },
   "file_extension": ".py",
   "mimetype": "text/x-python",
   "name": "python",
   "nbconvert_exporter": "python",
   "pygments_lexer": "ipython3",
   "version": "3.7.15"
  }
 },
 "nbformat": 4,
 "nbformat_minor": 5
}
