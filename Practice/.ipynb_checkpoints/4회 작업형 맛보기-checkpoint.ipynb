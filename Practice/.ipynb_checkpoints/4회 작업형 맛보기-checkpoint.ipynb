{
 "cells": [
  {
   "cell_type": "markdown",
   "id": "d0ff3f45",
   "metadata": {},
   "source": [
    "# 작업형1"
   ]
  },
  {
   "cell_type": "markdown",
   "id": "a0959700",
   "metadata": {},
   "source": [
    "#### 1. Cars93 데이터셋을 불러와 Weight 컬럼에 대하여 아래의 과정을 수행하여라.\n"
   ]
  },
  {
   "cell_type": "markdown",
   "id": "1edaad7d",
   "metadata": {},
   "source": [
    "(가) 제 1사분위수와 제 2사분위수를 구하기 (나) 두 개의 차이의 절댓값을 구하기 (다) 그 값의 소수점을 버리기"
   ]
  },
  {
   "cell_type": "code",
   "execution_count": 4,
   "id": "502a0c87",
   "metadata": {},
   "outputs": [
    {
     "name": "stdout",
     "output_type": "stream",
     "text": [
      "420\n"
     ]
    }
   ],
   "source": [
    "import pandas as pd\n",
    "\n",
    "Cars93 = pd.read_csv('data/기출복원/04회/Cars93.csv')\n",
    "\n",
    "q1 = Cars93['Weight'].quantile(q = 0.25)\n",
    "q2 = Cars93['Weight'].quantile(q = 0.5)\n",
    "\n",
    "diff = abs(q1 - q2)\n",
    "\n",
    "result = int(round(diff, 0))\n",
    "print(result)"
   ]
  },
  {
   "cell_type": "markdown",
   "id": "047eb6a1",
   "metadata": {},
   "source": [
    "#### 2. facebook_subset 데이터셋을 불러와 좋아요를 받은 전체 수 중 모바일에서 좋아요를 받은 비율을 구하고 그 비율이 0.6보다 크고 0.7보다 작으면서 성별이 남자인 경우의 레코드 수를 구하여라. (여기서, mobile_like_recived와 www_like_recived는 각각 모바일과 웹에서 좋아요를 받은 횟수이고 두 컬럼의 합은 좋아요를 받은 전체 수임)"
   ]
  },
  {
   "cell_type": "code",
   "execution_count": 29,
   "id": "923d5872",
   "metadata": {},
   "outputs": [
    {
     "name": "stdout",
     "output_type": "stream",
     "text": [
      "208\n"
     ]
    }
   ],
   "source": [
    "import pandas as pd\n",
    "\n",
    "face = pd.read_csv('data/기출복원/04회/facebook_subset.csv')\n",
    "\n",
    "mobile = face['mobile_likes_received'].copy()\n",
    "www = face['www_likes_received'].copy()\n",
    "\n",
    "face['rate'] = mobile / (mobile+www)\n",
    "\n",
    "data = face[(face['rate'] > 0.6) & (face['rate'] < 0.7)]\n",
    "data_male = data[data['gender'] == 'male']\n",
    "\n",
    "result = len(data_male)\n",
    "print(result)"
   ]
  },
  {
   "cell_type": "markdown",
   "id": "a301d24e",
   "metadata": {},
   "source": [
    "#### 3. netflix_subset 데이터셋을 불러와 2021년 1월에 등록되었으면서 listed_in이 오직 Drama인 경우의 레코드 수를 구하여라."
   ]
  },
  {
   "cell_type": "code",
   "execution_count": 62,
   "id": "2e9706e4",
   "metadata": {},
   "outputs": [
    {
     "name": "stdout",
     "output_type": "stream",
     "text": [
      "    show_id   type            title  \\\n",
      "598   s1389  Movie  The White Tiger   \n",
      "\n",
      "                                                  cast               country  \\\n",
      "598  Adarsh Gourav, Rajkummar Rao, Priyanka Chopra ...  India, United States   \n",
      "\n",
      "     date_added  release_year rating duration listed_in  \n",
      "598   22-Jan-21          2021      R  127 min    Dramas  \n"
     ]
    },
    {
     "name": "stderr",
     "output_type": "stream",
     "text": [
      "C:\\Users\\ok\\.conda\\envs\\big_ana\\lib\\site-packages\\ipykernel_launcher.py:14: UserWarning: Boolean Series key will be reindexed to match DataFrame index.\n",
      "  \n"
     ]
    }
   ],
   "source": [
    "import pandas as pd\n",
    "\n",
    "netflix = pd.read_csv('data/기출복원/04회/netflix_subset.csv', encoding = 'cp949')\n",
    "# 'date_added' 25-Sep-21\n",
    "# 'release_year' 2020\n",
    "# 'listed_in' 문자\n",
    "\n",
    "date = netflix['date_added'].copy()\n",
    "year = netflix['release_year'].copy().astype('int')\n",
    "genre = netflix['listed_in'].copy()\n",
    "\n",
    "date = pd.to_datetime(date)\n",
    "data = netflix[(year == 2021) & (date.dt.month == 1)]\n",
    "data_gen = data[genre == 'Dramas']\n",
    "print(data_gen)"
   ]
  },
  {
   "cell_type": "code",
   "execution_count": null,
   "id": "b7066593",
   "metadata": {},
   "outputs": [],
   "source": []
  }
 ],
 "metadata": {
  "kernelspec": {
   "display_name": "Python 3 (ipykernel)",
   "language": "python",
   "name": "python3"
  },
  "language_info": {
   "codemirror_mode": {
    "name": "ipython",
    "version": 3
   },
   "file_extension": ".py",
   "mimetype": "text/x-python",
   "name": "python",
   "nbconvert_exporter": "python",
   "pygments_lexer": "ipython3",
   "version": "3.7.15"
  }
 },
 "nbformat": 4,
 "nbformat_minor": 5
}
