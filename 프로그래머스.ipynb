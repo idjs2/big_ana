{
 "cells": [
  {
   "cell_type": "markdown",
   "id": "abe9449d",
   "metadata": {},
   "source": [
    "### 푸드파이터"
   ]
  },
  {
   "cell_type": "code",
   "execution_count": 81,
   "id": "efab2950",
   "metadata": {},
   "outputs": [],
   "source": [
    "def solution(food) :\n",
    "    answer = \"\"\n",
    "    food = [1,3,4,6]\n",
    "    food_util = []\n",
    "    water = [0]\n",
    "\n",
    "    food_len = len(food)\n",
    "    for num in range(1,food_len) :\n",
    "        if food[num] % 2 != 0 :\n",
    "            fo = food[num] - 1\n",
    "        else :\n",
    "            fo = food[num]\n",
    "\n",
    "        cnt = int(fo / 2)\n",
    "        for i in range(cnt) :\n",
    "            food_util.append(num)\n",
    "\n",
    "    rev_food_util = sorted(food_util, reverse = True)\n",
    "\n",
    "    string = food_util + water + rev_food_util\n",
    "    for st in string :\n",
    "        answer += str(st)\n",
    "\n",
    "    return answer"
   ]
  },
  {
   "cell_type": "code",
   "execution_count": 94,
   "id": "0b965a3d",
   "metadata": {},
   "outputs": [
    {
     "data": {
      "text/plain": [
       "'1223330333221'"
      ]
     },
     "execution_count": 94,
     "metadata": {},
     "output_type": "execute_result"
    }
   ],
   "source": [
    "food = [1,3,4,6]\n",
    "solution(food)"
   ]
  },
  {
   "cell_type": "markdown",
   "id": "9954f270",
   "metadata": {},
   "source": [
    "### 명예의 전당"
   ]
  },
  {
   "cell_type": "code",
   "execution_count": 141,
   "id": "7cda6f9f",
   "metadata": {},
   "outputs": [],
   "source": [
    "def solution(k, score):\n",
    "    answer = []\n",
    "    members = len(score)\n",
    "    good = []\n",
    "    \n",
    "    for mem in range(members) :\n",
    "        good.append(score[mem])\n",
    "        good_sort = sorted(good, reverse = True)\n",
    "        \n",
    "        if len(good_sort) >= k+1 :\n",
    "            good_sort = good_sort[:k]\n",
    "        \n",
    "        \n",
    "        good_sort = sorted(good_sort)\n",
    "        print(good_sort)\n",
    "        answer.append(good_sort[0])\n",
    "\n",
    "    return answer"
   ]
  },
  {
   "cell_type": "code",
   "execution_count": 143,
   "id": "3ead633e",
   "metadata": {
    "scrolled": true
   },
   "outputs": [
    {
     "name": "stdout",
     "output_type": "stream",
     "text": [
      "[10]\n",
      "[10, 100]\n",
      "[10, 20, 100]\n",
      "[20, 100, 150]\n",
      "[20, 100, 150]\n",
      "[100, 100, 150]\n",
      "[100, 150, 200]\n"
     ]
    },
    {
     "data": {
      "text/plain": [
       "[10, 10, 10, 20, 20, 100, 100]"
      ]
     },
     "execution_count": 143,
     "metadata": {},
     "output_type": "execute_result"
    }
   ],
   "source": [
    "k = 3\n",
    "score = [10, 100, 20, 150, 1, 100, 200]\n",
    "\n",
    "solution(k, score)"
   ]
  },
  {
   "cell_type": "code",
   "execution_count": 148,
   "id": "a26cf2d6",
   "metadata": {},
   "outputs": [
    {
     "data": {
      "text/plain": [
       "[1, 10, 20, 100, 100, 150, 200]"
      ]
     },
     "execution_count": 148,
     "metadata": {},
     "output_type": "execute_result"
    }
   ],
   "source": [
    "sorted(score)"
   ]
  },
  {
   "cell_type": "code",
   "execution_count": null,
   "id": "4cc1e9be",
   "metadata": {},
   "outputs": [],
   "source": [
    "# [10, 10, 10, 20, 20, 100, 100]"
   ]
  },
  {
   "cell_type": "code",
   "execution_count": 157,
   "id": "be587c64",
   "metadata": {},
   "outputs": [],
   "source": [
    "def solution(numbers):\n",
    "    answer = -1\n",
    "    num = [0,1,2,3,4,5,6,7,8,9]\n",
    "    \n",
    "    sum_li = []\n",
    "    for n in num :\n",
    "        if n not in numbers :\n",
    "            sum_li.append(n)\n",
    "    \n",
    "    answer = sum(sum_li)    \n",
    "    \n",
    "    return answer"
   ]
  },
  {
   "cell_type": "code",
   "execution_count": 158,
   "id": "c31a5468",
   "metadata": {},
   "outputs": [
    {
     "data": {
      "text/plain": [
       "14"
      ]
     },
     "execution_count": 158,
     "metadata": {},
     "output_type": "execute_result"
    }
   ],
   "source": [
    "numbers = [1,2,3,4,6,7,8,0]\n",
    "solution(numbers)"
   ]
  },
  {
   "cell_type": "code",
   "execution_count": null,
   "id": "95e2f05e",
   "metadata": {},
   "outputs": [],
   "source": [
    "# 14"
   ]
  },
  {
   "cell_type": "code",
   "execution_count": null,
   "id": "3264ec29",
   "metadata": {},
   "outputs": [],
   "source": []
  },
  {
   "cell_type": "code",
   "execution_count": 197,
   "id": "300d7c9d",
   "metadata": {},
   "outputs": [],
   "source": [
    "def solution(board, moves):\n",
    "    answer = 0\n",
    "    le = len(board)\n",
    "    \n",
    "    loaded = []\n",
    "    for m in moves :\n",
    "        for i in range(le) :\n",
    "            new = board[i][m-1]\n",
    "            if new != 0 :\n",
    "                print(new)\n",
    "                loaded.append(new)\n",
    "                board[i][m-1] = 0\n",
    "                print(loaded)\n",
    "                lo = len(loaded)                \n",
    "                if lo >= 2 :\n",
    "                    if loaded[lo-1] == loaded[lo-2] :\n",
    "                        answer += 1\n",
    "                        loaded = loaded[:lo-2]\n",
    "                break\n",
    "    \n",
    "    return answer"
   ]
  },
  {
   "cell_type": "code",
   "execution_count": 198,
   "id": "3e5a2f23",
   "metadata": {
    "scrolled": true
   },
   "outputs": [
    {
     "name": "stdout",
     "output_type": "stream",
     "text": [
      "4\n",
      "[4]\n",
      "3\n",
      "[4, 3]\n",
      "1\n",
      "[4, 3, 1]\n",
      "1\n",
      "[4, 3, 1, 1]\n",
      "3\n",
      "[4, 3, 3]\n",
      "2\n",
      "[4, 2]\n",
      "4\n",
      "[4, 2, 4]\n"
     ]
    },
    {
     "data": {
      "text/plain": [
       "2"
      ]
     },
     "execution_count": 198,
     "metadata": {},
     "output_type": "execute_result"
    }
   ],
   "source": [
    "board = [[0,0,0,0,0],[0,0,1,0,3],[0,2,5,0,1],[4,2,4,4,2],[3,5,1,3,1]]\n",
    "moves = [1,5,3,5,1,2,1,4]\n",
    "\n",
    "solution(board, moves)"
   ]
  },
  {
   "cell_type": "code",
   "execution_count": null,
   "id": "80335feb",
   "metadata": {},
   "outputs": [],
   "source": [
    "# 4\n",
    "\n",
    "[0,0,0,0,0]\n",
    "[0,0,0,0,0]\n",
    "[0,0,5,0,0]\n",
    "[0,2,4,0,2]\n",
    "[0,5,1,3,1]  4 2 4"
   ]
  }
 ],
 "metadata": {
  "kernelspec": {
   "display_name": "Python 3 (ipykernel)",
   "language": "python",
   "name": "python3"
  },
  "language_info": {
   "codemirror_mode": {
    "name": "ipython",
    "version": 3
   },
   "file_extension": ".py",
   "mimetype": "text/x-python",
   "name": "python",
   "nbconvert_exporter": "python",
   "pygments_lexer": "ipython3",
   "version": "3.7.15"
  }
 },
 "nbformat": 4,
 "nbformat_minor": 5
}
